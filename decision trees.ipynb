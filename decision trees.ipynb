{
 "cells": [
  {
   "cell_type": "markdown",
   "metadata": {},
   "source": [
    "i made my own dataset??\n"
   ]
  },
  {
   "cell_type": "code",
   "execution_count": 1,
   "metadata": {},
   "outputs": [],
   "source": [
    "data= [['male', '20', 'College'],\n",
    "       ['male', '35', 'Office'],\n",
    "       ['male', '60', 'Retired'],\n",
    "       ['female', '20', 'College'],\n",
    "      ['female', '35', 'Retired'],\n",
    "      ['female', '60', 'Office'],\n",
    "       ['female', '20', 'Retired']]\n",
    "\n",
    "attributes = [x[:-1] for x in data]\n",
    "themes = [x[-1] for x in data]\n",
    "\n"
   ]
  },
  {
   "cell_type": "code",
   "execution_count": 2,
   "metadata": {},
   "outputs": [],
   "source": [
    "from collections import defaultdict\n",
    "from math import log\n",
    "\n",
    "def calc_entr(themes):\n",
    "  res = defaultdict(int)\n",
    "  for i in themes:\n",
    "    res[i] += 1\n",
    "  \n",
    "  probs = [ val / len(themes) for  val in res.values()]\n",
    "  \n",
    "  entr = sum([-x * log(x) for x in probs])\n",
    "  return entr\n",
    "  "
   ]
  },
  {
   "cell_type": "code",
   "execution_count": 3,
   "metadata": {},
   "outputs": [],
   "source": [
    "import numpy as np\n",
    "def calc_attr_entr(attributes, attr_index, themes):\n",
    "  per_attr_themes = defaultdict(list)\n",
    "  for attribute, theme in zip(attributes, themes):\n",
    "    per_attr_themes[attribute[attr_index]].append(theme)\n",
    "  \n",
    "  entropy = sum([calc_entr(val) for val in per_attr_themes.values()])\n",
    "  return entropy\n",
    "\n",
    "def calc_decision_tree(attributes, themes, attr_indices):\n",
    "  print(attr_indices)\n",
    "  if (len(attr_indices) == 0):\n",
    "    t_cnt = defaultdict(int)\n",
    "    for t in themes:\n",
    "      t_cnt[t]+=1\n",
    "    t_cnt = sorted(t_cnt.items(), key = lambda x:-x[1])\n",
    "    return t_cnt[0][0]\n",
    "  \n",
    "  attr_entropies = [calc_attr_entr(attributes, i, themes) for i in attr_indices]\n",
    "  \n",
    "  cur_attr = attr_indices[np.argmin(attr_entropies)]\n",
    "  \n",
    "  unique_attrs = set(list(zip(*attributes))[cur_attr])\n",
    "  \n",
    "  attr_indices_copy = list(attr_indices)\n",
    "  attr_indices_copy.remove(cur_attr)\n",
    "  \n",
    "  dt = []\n",
    "  for attr_value in unique_attrs:\n",
    "    items = [(attr, theme) for attr, theme in zip(attributes, themes) if attr[cur_attr] == attr_value]\n",
    "  \n",
    "    dt.append((attr_value, calc_decision_tree([attr for attr, theme in items ], [theme for attr, theme in items], attr_indices_copy)))\n",
    "  \n",
    "  return (cur_attr,dict(dt))\n",
    "  \n",
    "  "
   ]
  },
  {
   "cell_type": "code",
   "execution_count": 4,
   "metadata": {
    "scrolled": true
   },
   "outputs": [
    {
     "name": "stdout",
     "output_type": "stream",
     "text": [
      "[0, 1]\n",
      "[0]\n",
      "[]\n",
      "[]\n",
      "[0]\n",
      "[]\n",
      "[]\n",
      "[0]\n",
      "[]\n",
      "[]\n"
     ]
    }
   ],
   "source": [
    "tr = calc_decision_tree(attributes, themes, list(range(len(attributes[0]))))"
   ]
  },
  {
   "cell_type": "code",
   "execution_count": 5,
   "metadata": {},
   "outputs": [
    {
     "data": {
      "text/plain": [
       "'College'"
      ]
     },
     "execution_count": 5,
     "metadata": {},
     "output_type": "execute_result"
    }
   ],
   "source": [
    "tr[1]['20'][1]['male']"
   ]
  }
 ],
 "metadata": {
  "kernelspec": {
   "display_name": "Python 3",
   "language": "python",
   "name": "python3"
  },
  "language_info": {
   "codemirror_mode": {
    "name": "ipython",
    "version": 3
   },
   "file_extension": ".py",
   "mimetype": "text/x-python",
   "name": "python",
   "nbconvert_exporter": "python",
   "pygments_lexer": "ipython3",
   "version": "3.7.0"
  }
 },
 "nbformat": 4,
 "nbformat_minor": 2
}
